{
 "cells": [
  {
   "cell_type": "markdown",
   "metadata": {
    "heading_collapsed": true
   },
   "source": [
    "# Dependencies"
   ]
  },
  {
   "cell_type": "code",
   "execution_count": 8,
   "metadata": {
    "hidden": true
   },
   "outputs": [],
   "source": [
    "%matplotlib inline\n",
    "import numpy as np\n",
    "import matplotlib as mpl\n",
    "import matplotlib.pyplot as plt\n",
    "import matplotlib.cm as cm\n",
    "#plt.style.use('mypaper')\n",
    "\n",
    "import warnings\n",
    "warnings.filterwarnings('ignore')"
   ]
  },
  {
   "cell_type": "markdown",
   "metadata": {},
   "source": [
    "# Calibration Results"
   ]
  },
  {
   "cell_type": "markdown",
   "metadata": {},
   "source": [
    "## Concentrations of Pelikan Dyes in aqueous solution\n",
    "\n",
    "As we do not know the composition or concentration of the Pelikan inks, for the following labelling of dilutions we will assume that the initial concentration of the respective inks is \n",
    "\n",
    "$$c_0 = \\frac{100\\,  U_{dye}}{mL} \\ , $$ \n",
    "\n",
    "where $U_{dye}$ is the unknown quantity unit of dye present in 1 mL of $H_2 O$. \n",
    "Under this assumption it follows that a volume $V_{c_0}$ of ink with concentration $c_0$ will have a quantity of dye\n",
    "\n",
    "$$ x_{c_0} \\, [U_{dye}]= V_{c_0}\\,[\\mu L] \\times \\frac{1\\,mL}{1000\\,\\mu L} \\times c_0 $$\n",
    "\n",
    "and a dilution of the latter in a volume $V_{H_2O}$ will have a concentration $c_{dilution} = c_d$ according to\n",
    "\n",
    "$$ c_d (V_{c_0}, V_{tot,d}) =  \\frac{x_{c_0}}{V_{tot, d}} = \\frac{V_{c_0}\\,[\\mu L] }{V_{tot, d}} \\times \\frac{1\\,mL}{1000\\,\\mu L} \\times c_0  $$\n",
    "\n",
    "Then, with $V_{G, c_0} = 75 \\mu L$ and $V_{tot, d} = 1.5\\, mL$ for Pelikan Green and $V_{R, c_0} = 150 \\,\\mu L$ and $V_{tot, d} = 1.5\\, mL$ for Pelikan Red it follows:\n",
    "\n",
    "$$c_{d1,Green} = \\frac{5 \\,U_{dye}}{mL} \\\\[.5cm]\n",
    "c_{d1,Red} = \\frac{10 \\,U_{dye}}{mL}$$"
   ]
  },
  {
   "cell_type": "markdown",
   "metadata": {
    "heading_collapsed": true
   },
   "source": [
    "### Pelikan Green"
   ]
  },
  {
   "cell_type": "code",
   "execution_count": 9,
   "metadata": {
    "hidden": true
   },
   "outputs": [
    {
     "name": "stdout",
     "output_type": "stream",
     "text": [
      "Volums of Dilution 1: [ 0.15     0.075    0.0375   0.025    0.01875  0.015    0.01     0.     ] mL\n",
      "Volumns of H2O to add: [ 1.35     1.425    1.4625   1.475    1.48125  1.485    1.49     1.5    ] mL\n"
     ]
    }
   ],
   "source": [
    "v_diG = np.array([0.15, \n",
    "                  0.075, \n",
    "                  0.0375, \n",
    "                  0.025, \n",
    "                  0.01875, \n",
    "                  0.015, \n",
    "                  0.01, \n",
    "                  0.])\n",
    "\n",
    "c_d1G = 5\n",
    "v_tot = 1.5\n",
    "c_diG = v_diG*c_d1G/v_tot\n",
    "print('Volums of Dilution 1:', v_diG, 'mL')\n",
    "print('Volumns of H2O to add:', v_tot-v_diG, 'mL')"
   ]
  },
  {
   "cell_type": "code",
   "execution_count": 17,
   "metadata": {},
   "outputs": [
    {
     "name": "stdout",
     "output_type": "stream",
     "text": [
      "0.5\n",
      "0.25\n",
      "0.125\n",
      "0.0833333333333\n",
      "0.0625\n",
      "0.05\n",
      "0.0333333333333\n",
      "0.0\n"
     ]
    }
   ],
   "source": [
    "for c in c_diG:\n",
    "    print(c)"
   ]
  },
  {
   "cell_type": "markdown",
   "metadata": {
    "heading_collapsed": true
   },
   "source": [
    "### Pelikan Red"
   ]
  },
  {
   "cell_type": "code",
   "execution_count": 4,
   "metadata": {
    "hidden": true
   },
   "outputs": [
    {
     "name": "stdout",
     "output_type": "stream",
     "text": [
      "Volums of Dilution 1: [ 0.3     0.15    0.075   0.05    0.0375  0.03    0.02    0.    ] mL\n",
      "Volumns of H2O to add: [ 1.2     1.35    1.425   1.45    1.4625  1.47    1.48    1.5   ] mL\n"
     ]
    }
   ],
   "source": [
    "v_diR = 2*np.array([0.15, \n",
    "                  0.075, \n",
    "                  0.0375, \n",
    "                  0.025, \n",
    "                  0.01875, \n",
    "                  0.015, \n",
    "                  0.01, \n",
    "                  0.])\n",
    "c_d1R = 10\n",
    "v_tot = 1.5\n",
    "c_diR = v_diR*c_d1R/v_tot\n",
    "print('Volums of Dilution 1:', v_diR, 'mL')\n",
    "print('Volumns of H2O to add:', v_tot-v_diR, 'mL')"
   ]
  },
  {
   "cell_type": "code",
   "execution_count": 38,
   "metadata": {},
   "outputs": [
    {
     "name": "stdout",
     "output_type": "stream",
     "text": [
      "2.0\n",
      "1.0\n",
      "0.5\n",
      "0.333333333333\n",
      "0.25\n",
      "0.2\n",
      "0.133333333333\n",
      "0.0\n"
     ]
    }
   ],
   "source": [
    "for c in c_diR:\n",
    "    print(c)"
   ]
  },
  {
   "cell_type": "markdown",
   "metadata": {},
   "source": [
    "## Data Processing"
   ]
  },
  {
   "cell_type": "markdown",
   "metadata": {},
   "source": [
    "*Load data using custom database object*"
   ]
  },
  {
   "cell_type": "code",
   "execution_count": 10,
   "metadata": {},
   "outputs": [],
   "source": [
    "from modules.MyDB import MyDB as MyDB"
   ]
  },
  {
   "cell_type": "code",
   "execution_count": 17,
   "metadata": {},
   "outputs": [
    {
     "data": {
      "application/vnd.jupyter.widget-view+json": {
       "model_id": "058bdadf183e4ababf83b90a31f0693b",
       "version_major": 2,
       "version_minor": 0
      },
      "text/html": [
       "<p>Failed to display Jupyter Widget of type <code>interactive</code>.</p>\n",
       "<p>\n",
       "  If you're reading this message in the Jupyter Notebook or JupyterLab Notebook, it may mean\n",
       "  that the widgets JavaScript is still loading. If this message persists, it\n",
       "  likely means that the widgets JavaScript library is either not installed or\n",
       "  not enabled. See the <a href=\"https://ipywidgets.readthedocs.io/en/stable/user_install.html\">Jupyter\n",
       "  Widgets Documentation</a> for setup instructions.\n",
       "</p>\n",
       "<p>\n",
       "  If you're reading this message in another frontend (for example, a static\n",
       "  rendering on GitHub or <a href=\"https://nbviewer.jupyter.org/\">NBViewer</a>),\n",
       "  it may mean that your frontend doesn't currently support widgets.\n",
       "</p>\n"
      ],
      "text/plain": [
       "interactive(children=(Dropdown(description='choose tag:', index=4, options=('TwinChips_X23_Calibration20181123_Green', 'TwinChips_X23_Calibration20181123_Red', 'TwinChips_X2_Calibration20181122_Green', 'TwinChips_X2_Calibration20181122_Red', ''), value=''), Output()), _dom_classes=('widget-interact',))"
      ]
     },
     "metadata": {},
     "output_type": "display_data"
    }
   ],
   "source": [
    "db = MyDB()\n",
    "#db.list_tags()\n",
    "db.list_experiments()"
   ]
  },
  {
   "cell_type": "markdown",
   "metadata": {},
   "source": [
    "*Sort by label (last entry in tags)*"
   ]
  },
  {
   "cell_type": "markdown",
   "metadata": {},
   "source": [
    "*Define [Spectral Absorbance](https://en.wikipedia.org/wiki/Absorbance#Spectral_absorbance)*"
   ]
  },
  {
   "cell_type": "code",
   "execution_count": 11,
   "metadata": {},
   "outputs": [],
   "source": [
    "def A(i, i0):\n",
    "    return np.log10(i0/i) "
   ]
  },
  {
   "cell_type": "markdown",
   "metadata": {},
   "source": [
    "*[Stream](https://bokeh.pydata.org/en/latest/docs/reference/models/sources.html#bokeh.models.sources.ColumnDataSource.stream) data to ColumnDataSource*"
   ]
  },
  {
   "cell_type": "code",
   "execution_count": null,
   "metadata": {
    "scrolled": false
   },
   "outputs": [
    {
     "data": {
      "image/png": "[encoded data removed]",
      "text/plain": [
       "<matplotlib.figure.Figure at 0x68f8b9d0>"
      ]
     },
     "metadata": {},
     "output_type": "display_data"
    }
   ],
   "source": [
    "# sort by last entry in tags, which was the label in MyMeasurement.save_intensities -> concentration\n",
    "def label_to_float(c):\n",
    "    return float(c)\n",
    "db.readouts.sort('tags', index=-1, getter_func=label_to_float)\n",
    "\n",
    "# define sensor name for creating the data subset\n",
    "sensors = ['left','right' ]\n",
    "colormap = cm.Reds\n",
    "\n",
    "for sensor in sensors:\n",
    "    number_of_lines = len(db.readouts.select(sensor))\n",
    "    cm_subsection = np.linspace(0.3, 1, number_of_lines)\n",
    "    colors = [colormap(x) for x in cm_subsection]\n",
    "    #from bokeh.palettes import Greens as palette\n",
    "    #from bokeh.plotting import figure, output_file, show\n",
    "\n",
    "    #palette = ['black', 'purple', 'blue', 'green', 'yellow', 'orange','red']\n",
    "    #output_file = 'testplot.html'\n",
    "    #p = figure()\n",
    "    fig = plt.figure()\n",
    "    p = fig.add_subplot(111, title=sensor)\n",
    "    # define reference; water (c = 0.0) as \"i0\"\n",
    "    with np.load(db.readouts.select(sensor)[0]) as i0:\n",
    "        i0_mean = np.mean(i0['intensities'], axis=0)\n",
    "\n",
    "    # stream data-subset as Absorbance to ColumnDataSource \"PlotData\"\n",
    "    for i, readout in enumerate(db.readouts.select(sensor)[1:]):    \n",
    "        with np.load(readout) as data:\n",
    "            i_mean = np.mean(data['intensities'], axis=0)\n",
    "            data_to_add = {\n",
    "                'wavelength/nm': db.spectrometers[data['detector'].item()],\n",
    "                'Spectral Absorbance/A.U.': A(i_mean, i0_mean)\n",
    "            }\n",
    "            #PlotData.stream(data_to_add)\n",
    "            p.plot(data_to_add['wavelength/nm'], data_to_add['Spectral Absorbance/A.U.'],label=str(round(float(data['tags'][-1]),3)), color=colors[i]\n",
    "                )\n",
    "            p.legend()\n",
    "            p.set_xlim((420,730))\n",
    "            p.set_ylim((-.06,.25))\n",
    "        \n",
    "#show(p)"
   ]
  },
  {
   "cell_type": "code",
   "execution_count": 37,
   "metadata": {},
   "outputs": [],
   "source": [
    "plt.savefig('X2_r_Red.svg')"
   ]
  },
  {
   "cell_type": "code",
   "execution_count": null,
   "metadata": {},
   "outputs": [],
   "source": []
  }
 ],
 "metadata": {
  "author": "m",
  "kernelspec": {
   "display_name": "Python 3",
   "language": "python",
   "name": "python3"
  },
  "language_info": {
   "codemirror_mode": {
    "name": "ipython",
    "version": 3
   },
   "file_extension": ".py",
   "mimetype": "text/x-python",
   "name": "python",
   "nbconvert_exporter": "python",
   "pygments_lexer": "ipython3",
   "version": "3.6.1"
  },
  "latex_envs": {
   "LaTeX_envs_menu_present": true,
   "autoclose": false,
   "autocomplete": true,
   "bibliofile": "biblio.bib",
   "cite_by": "apalike",
   "current_citInitial": 1,
   "eqLabelWithNumbers": true,
   "eqNumInitial": 1,
   "hotkeys": {
    "equation": "Ctrl-E",
    "itemize": "Ctrl-I"
   },
   "labels_anchors": false,
   "latex_user_defs": false,
   "report_style_numbering": false,
   "user_envs_cfg": false
  },
  "toc": {
   "base_numbering": 1,
   "nav_menu": {},
   "number_sections": true,
   "sideBar": true,
   "skip_h1_title": false,
   "title_cell": "Table of Contents",
   "title_sidebar": "Contents",
   "toc_cell": false,
   "toc_position": {},
   "toc_section_display": true,
   "toc_window_display": false
  }
 },
 "nbformat": 4,
 "nbformat_minor": 2
}
